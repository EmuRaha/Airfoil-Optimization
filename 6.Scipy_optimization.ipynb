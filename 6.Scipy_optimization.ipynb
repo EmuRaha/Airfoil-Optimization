{
 "cells": [
  {
   "cell_type": "code",
   "execution_count": 1,
   "id": "77bdf148",
   "metadata": {},
   "outputs": [],
   "source": [
    "from scipy.optimize import minimize\n",
    "import joblib\n",
    "import numpy as np\n",
    "from sklearn.preprocessing import StandardScaler\n",
    "# %run 1.Sobol_sequence.ipynb\n",
    "%run 2.Hicks_Henne_NEW_Final.ipynb\n",
    "# %run 3.Deformed_foil_generator.ipynb\n",
    "# %run 4.Xfoil_runner_extract_value.ipynb\n",
    "# %run 5.ANN_MODEL.ipynb"
   ]
  },
  {
   "cell_type": "code",
   "execution_count": 2,
   "id": "8bede254",
   "metadata": {
    "scrolled": true
   },
   "outputs": [
    {
     "name": "stdout",
     "output_type": "stream",
     "text": [
      "WARNING:tensorflow:From C:\\Users\\user\\AppData\\Local\\Programs\\Python\\Python311\\Lib\\site-packages\\keras\\src\\losses.py:2976: The name tf.losses.sparse_softmax_cross_entropy is deprecated. Please use tf.compat.v1.losses.sparse_softmax_cross_entropy instead.\n",
      "\n",
      "WARNING:tensorflow:From C:\\Users\\user\\AppData\\Local\\Programs\\Python\\Python311\\Lib\\site-packages\\keras\\src\\backend.py:1398: The name tf.executing_eagerly_outside_functions is deprecated. Please use tf.compat.v1.executing_eagerly_outside_functions instead.\n",
      "\n"
     ]
    },
    {
     "name": "stderr",
     "output_type": "stream",
     "text": [
      "C:\\Users\\user\\AppData\\Local\\Programs\\Python\\Python311\\Lib\\site-packages\\sklearn\\base.py:348: InconsistentVersionWarning: Trying to unpickle estimator StandardScaler from version 1.2.2 when using version 1.3.2. This might lead to breaking code or invalid results. Use at your own risk. For more info please refer to:\n",
      "https://scikit-learn.org/stable/model_persistence.html#security-maintainability-limitations\n",
      "  warnings.warn(\n"
     ]
    }
   ],
   "source": [
    "model = joblib.load('model__01.joblib')\n",
    "scaler = joblib.load('scaler_file__01.joblib')"
   ]
  },
  {
   "cell_type": "code",
   "execution_count": 3,
   "id": "a95e83ab",
   "metadata": {},
   "outputs": [],
   "source": [
    "feature_names = [\"x1\", \"x2\", \"x3\", \"x4\", \"x5\", \"x6\", \"x7\", \"x8\"]"
   ]
  },
  {
   "cell_type": "code",
   "execution_count": 13,
   "id": "1eaea160",
   "metadata": {},
   "outputs": [],
   "source": [
    "def objective_function(design_parameters):\n",
    "    design_parameters = design_parameters.reshape(1,8)\n",
    "    design_parameters = pd.DataFrame(design_parameters, columns=feature_names)\n",
    "    design_parameters = scaler.transform(design_parameters)\n",
    "    \n",
    "    predictions = model.predict(design_parameters)\n",
    "    CL = predictions[0, 0]\n",
    "    CD = predictions[0, 1]\n",
    "    \n",
    "    efficiency = CL / CD\n",
    "    return -efficiency\n",
    "\n",
    "def constraint(design_parameters):\n",
    "    design_parameters = design_parameters.reshape(1,8)\n",
    "    design_parameters = pd.DataFrame(design_parameters, columns=feature_names)\n",
    "    design_parameters = scaler.transform(design_parameters)\n",
    "    \n",
    "    predictions = model.predict(design_parameters)\n",
    "    CL = predictions[0, 0]\n",
    "    CD = predictions[0, 1]\n",
    "    \n",
    "    original_CD = 0.00848  \n",
    "    \n",
    "    return original_CD - CD\n",
    "    \n",
    "def area_constraint(design_parameters):\n",
    "    design_parameters = np.array(design_parameters).reshape((1, 8))\n",
    "    i = 0\n",
    "    y_mod = hicks_henne_overall(x, y , n, design_parameters, i, w, xM)\n",
    "    polygon1 = Polygon(zip(x, y))\n",
    "    area_orig = polygon1.area\n",
    "    polygon2 = Polygon(zip(x, y_mod))\n",
    "    area_mod = polygon2.area\n",
    "    return area_orig - area_mod\n",
    "\n",
    "\n"
   ]
  },
  {
   "cell_type": "code",
   "execution_count": 14,
   "id": "968bd949",
   "metadata": {},
   "outputs": [],
   "source": [
    "bounds = [(-0.01, 0.01), (-0.01, 0.01), (-0.01, 0.01), (-0.01, 0.01), (-0.01, 0.01), (-0.01, 0.01), (-0.01, 0.01), (-0.01, 0.01) ]\n",
    "#scale\n",
    "initial_guess = np.full(8,0)"
   ]
  },
  {
   "cell_type": "code",
   "execution_count": 15,
   "id": "794f5a4b",
   "metadata": {},
   "outputs": [
    {
     "name": "stdout",
     "output_type": "stream",
     "text": [
      "1/1 [==============================] - 0s 25ms/step\n",
      "1/1 [==============================] - 0s 26ms/step\n",
      "1/1 [==============================] - 0s 27ms/step\n",
      "1/1 [==============================] - 0s 27ms/step\n",
      "1/1 [==============================] - 0s 26ms/step\n",
      "1/1 [==============================] - 0s 26ms/step\n",
      "1/1 [==============================] - 0s 27ms/step\n",
      "1/1 [==============================] - 0s 28ms/step\n",
      "1/1 [==============================] - 0s 25ms/step\n",
      "1/1 [==============================] - 0s 26ms/step\n",
      "1/1 [==============================] - 0s 28ms/step\n",
      "1/1 [==============================] - 0s 29ms/step\n",
      "1/1 [==============================] - 0s 26ms/step\n",
      "1/1 [==============================] - 0s 26ms/step\n",
      "1/1 [==============================] - 0s 29ms/step\n",
      "1/1 [==============================] - 0s 25ms/step\n",
      "1/1 [==============================] - 0s 27ms/step\n",
      "1/1 [==============================] - 0s 26ms/step\n",
      "1/1 [==============================] - 0s 27ms/step\n",
      "1/1 [==============================] - 0s 27ms/step\n",
      "1/1 [==============================] - 0s 26ms/step\n",
      "1/1 [==============================] - 0s 29ms/step\n",
      "1/1 [==============================] - 0s 28ms/step\n",
      "1/1 [==============================] - 0s 27ms/step\n",
      "1/1 [==============================] - 0s 27ms/step\n",
      "1/1 [==============================] - 0s 24ms/step\n",
      "1/1 [==============================] - 0s 25ms/step\n",
      "1/1 [==============================] - 0s 27ms/step\n",
      "1/1 [==============================] - 0s 26ms/step\n",
      "1/1 [==============================] - 0s 25ms/step\n",
      "1/1 [==============================] - 0s 25ms/step\n",
      "1/1 [==============================] - 0s 25ms/step\n",
      "1/1 [==============================] - 0s 26ms/step\n",
      "1/1 [==============================] - 0s 26ms/step\n",
      "1/1 [==============================] - 0s 25ms/step\n",
      "1/1 [==============================] - 0s 27ms/step\n",
      "1/1 [==============================] - 0s 26ms/step\n",
      "1/1 [==============================] - 0s 25ms/step\n",
      "1/1 [==============================] - 0s 24ms/step\n",
      "1/1 [==============================] - 0s 28ms/step\n",
      "1/1 [==============================] - 0s 26ms/step\n",
      "1/1 [==============================] - 0s 27ms/step\n",
      "1/1 [==============================] - 0s 26ms/step\n",
      "1/1 [==============================] - 0s 25ms/step\n",
      "1/1 [==============================] - 0s 26ms/step\n",
      "1/1 [==============================] - 0s 25ms/step\n",
      "1/1 [==============================] - 0s 28ms/step\n",
      "1/1 [==============================] - 0s 27ms/step\n",
      "1/1 [==============================] - 0s 26ms/step\n",
      "1/1 [==============================] - 0s 28ms/step\n",
      "1/1 [==============================] - 0s 27ms/step\n",
      "1/1 [==============================] - 0s 27ms/step\n",
      "1/1 [==============================] - 0s 26ms/step\n",
      "1/1 [==============================] - 0s 27ms/step\n",
      "1/1 [==============================] - 0s 28ms/step\n",
      "1/1 [==============================] - 0s 28ms/step\n",
      "1/1 [==============================] - 0s 26ms/step\n",
      "1/1 [==============================] - 0s 25ms/step\n"
     ]
    }
   ],
   "source": [
    "from shapely.geometry import Polygon\n",
    "constraints = [{'type': 'ineq', 'fun': constraint},{'type': 'eq', 'fun': area_constraint}]\n",
    "\n",
    "result = minimize(objective_function, initial_guess, bounds=bounds, constraints=constraints, method='SLSQP')\n",
    "\n",
    "optimal_design_parameters = result.x"
   ]
  },
  {
   "cell_type": "code",
   "execution_count": 16,
   "id": "067cecd3",
   "metadata": {},
   "outputs": [
    {
     "name": "stdout",
     "output_type": "stream",
     "text": [
      "Optimization successful!\n"
     ]
    }
   ],
   "source": [
    "if result.success:\n",
    "    print(\"Optimization successful!\")\n",
    "else:\n",
    "    print(\"Optimization failed. Message:\", result.message)"
   ]
  },
  {
   "cell_type": "code",
   "execution_count": 17,
   "id": "7358f734",
   "metadata": {},
   "outputs": [
    {
     "name": "stdout",
     "output_type": "stream",
     "text": [
      "1/1 [==============================] - 0s 27ms/step\n",
      "Optimal Design Parameters: [[0.01 0.01 0.01 0.01 0.01 0.01 0.01 0.01]]\n",
      "Optimal Lift Coefficient: 0.8109723\n",
      "Optimal Drag Coefficient: 0.008171556\n",
      "Optimal Aerodynamic Efficiency: 99.24332\n"
     ]
    }
   ],
   "source": [
    "optimal_design_parameters = np.array(optimal_design_parameters).reshape((1, 8))\n",
    "optimal_design_parameters_df = pd.DataFrame(optimal_design_parameters, columns=feature_names)\n",
    "optimal_design_parameters_scaled = scaler.transform(optimal_design_parameters_df)\n",
    "Optimized = model.predict(optimal_design_parameters_scaled)\n",
    "CL_opt = Optimized[0, 0]\n",
    "CD_opt = Optimized[0, 1]\n",
    "optimal_efficiency = CL_opt/CD_opt\n",
    "print(\"Optimal Design Parameters:\", optimal_design_parameters)\n",
    "print(\"Optimal Lift Coefficient:\", CL_opt )\n",
    "print(\"Optimal Drag Coefficient:\", CD_opt)\n",
    "print(\"Optimal Aerodynamic Efficiency:\", optimal_efficiency)"
   ]
  },
  {
   "cell_type": "code",
   "execution_count": 18,
   "id": "9a1ca168",
   "metadata": {},
   "outputs": [
    {
     "data": {
      "text/plain": [
       "array([[0.01, 0.01, 0.01, 0.01, 0.01, 0.01, 0.01, 0.01]])"
      ]
     },
     "execution_count": 18,
     "metadata": {},
     "output_type": "execute_result"
    }
   ],
   "source": [
    "optimal_design_parameters"
   ]
  },
  {
   "cell_type": "code",
   "execution_count": 22,
   "id": "186b9979",
   "metadata": {},
   "outputs": [],
   "source": [
    "i = 0"
   ]
  },
  {
   "cell_type": "code",
   "execution_count": 23,
   "id": "67552762",
   "metadata": {},
   "outputs": [],
   "source": [
    "y_opt = hicks_henne_overall(x, y , n, optimal_design_parameters, i, w, xM)"
   ]
  },
  {
   "cell_type": "code",
   "execution_count": 24,
   "id": "9d088165",
   "metadata": {},
   "outputs": [
    {
     "data": {
      "image/png": "[encoded data removed]",
      "text/plain": [
       "<Figure size 640x480 with 1 Axes>"
      ]
     },
     "metadata": {},
     "output_type": "display_data"
    }
   ],
   "source": [
    "plt.plot(x, y, label = \"Original Airfoil\")\n",
    "plt.plot(x, y_opt, label = \"Optimized Airfoil\")\n",
    "plt.gca().set_aspect('equal', adjustable='box')\n",
    "plt.title('Original Airfoil vs Optimized Airfoil')\n",
    "plt.xlabel('X-coordinate')\n",
    "plt.ylabel('Y-coordinate')\n",
    "plt.legend(loc=(1,1))\n",
    "plt.grid()"
   ]
  },
  {
   "cell_type": "code",
   "execution_count": 25,
   "id": "201d2c4d",
   "metadata": {},
   "outputs": [
    {
     "data": {
      "image/png": "[encoded data removed]",
      "text/plain": [
       "<Figure size 640x480 with 1 Axes>"
      ]
     },
     "metadata": {},
     "output_type": "display_data"
    }
   ],
   "source": [
    "plt.plot(x,y_opt)\n",
    "plt.gca().set_aspect('equal', adjustable='box')\n",
    "plt.title('Optimized Airfoil')\n",
    "plt.xlabel('X-coordinate')\n",
    "plt.ylabel('Y-coordinate')\n",
    "plt.grid()"
   ]
  },
  {
   "cell_type": "code",
   "execution_count": 26,
   "id": "0bbdf6bb",
   "metadata": {},
   "outputs": [],
   "source": [
    "df_opt = pd.DataFrame({'x': x, 'y_modified': y_opt})\n",
    "path = \"Optimized_airfoil.dat\"\n",
    "df_opt.to_csv(path, index=False, sep=' ')"
   ]
  },
  {
   "cell_type": "code",
   "execution_count": 27,
   "id": "f855fcf9",
   "metadata": {},
   "outputs": [],
   "source": [
    "import os\n",
    "import subprocess\n",
    "import numpy as np\n",
    "import pandas as pd\n",
    "import time\n",
    "import warnings"
   ]
  },
  {
   "cell_type": "code",
   "execution_count": 28,
   "id": "75f0856a",
   "metadata": {},
   "outputs": [],
   "source": [
    "# %% Inputs\n",
    "# alpha_i = 0\n",
    "# alpha_f = 5\n",
    "# step = 1\n",
    "alpha = 5\n",
    "Re = 1000000\n",
    "# Mach = 0.2\n",
    "n_iter = 20\n",
    "# n_panels = 200"
   ]
  },
  {
   "cell_type": "code",
   "execution_count": 29,
   "id": "1204d453",
   "metadata": {},
   "outputs": [
    {
     "name": "stdout",
     "output_type": "stream",
     "text": [
      "--------> 0.8662 0.00833\n",
      "--------> 103.98559423769507\n"
     ]
    }
   ],
   "source": [
    "airfoil_name = \"Optimized_airfoil\"\n",
    "\n",
    "if os.path.exists(\"polar_file.txt\"):\n",
    "    os.remove(\"polar_file.txt\")\n",
    "    \n",
    "input_file = open(\"input_file.in\", 'w')\n",
    "input_file.write(\"LOAD {0}.dat\\n\".format(airfoil_name))\n",
    "input_file.write(airfoil_name + '\\n')\n",
    "#     input_file.write(\"PANE\\nN {0}\".format(n_panels))\n",
    "input_file.write(\"PANE\\n\")\n",
    "input_file.write(\"OPER\\n\")\n",
    "input_file.write(\"Visc {0}\\n\".format(Re))\n",
    "#     input_file.write(\"Mach {0}\\n\".format(Mach))\n",
    "input_file.write(\"PACC\\n\")\n",
    "input_file.write(\"polar_file.txt\\n\\n\")\n",
    "input_file.write(\"ITER {0}\\n\".format(n_iter))\n",
    "#     input_file.write(\"Aseq {0} {1} {2}\\n\".format(alpha_i,alpha_f,step))\n",
    "input_file.write(\"Alfa {0}\\n\".format(alpha))\n",
    "input_file.write(\"\\n\\n\")\n",
    "input_file.write(\"quit\\n\")\n",
    "input_file.close()\n",
    "\n",
    "subprocess.call(f'xfoil.exe < input_file.in & echo quit', shell=True)\n",
    "\n",
    "time.sleep(0.5)\n",
    "\n",
    "with warnings.catch_warnings(record=True) as w:\n",
    "    warnings.simplefilter(\"always\")\n",
    "\n",
    "    # Try to load data from the file\n",
    "    polar_data = np.loadtxt(\"polar_file.txt\", skiprows=12)\n",
    "\n",
    "    # Check for the specific UserWarning\n",
    "    for warning in w:\n",
    "        if issubclass(warning.category, UserWarning) and \"input contained no data\" in str(warning.message):\n",
    "#                 print(f\"Warning encountered in iteration {i}: {warning.message}\")\n",
    "            break  # Stop checking for warnings once the relevant one is found\n",
    "\n",
    "if len(polar_data)==0:\n",
    "    CL = np.nan\n",
    "    CD = np.nan\n",
    "    print(\"-------->\",\"NaN\",\"NaN\")\n",
    "\n",
    "else:\n",
    "    CL = polar_data[1]\n",
    "    CD = polar_data[2]\n",
    "    print(\"-------->\",CL,CD)\n",
    "    print(\"-------->\",CL/CD)\n",
    "    "
   ]
  },
  {
   "cell_type": "code",
   "execution_count": 30,
   "id": "98daad60",
   "metadata": {},
   "outputs": [
    {
     "name": "stdout",
     "output_type": "stream",
     "text": [
      "Surrogate model optimization:\n",
      "Optimal Design Parameters: [[0.01 0.01 0.01 0.01 0.01 0.01 0.01 0.01]]\n",
      "Optimal Lift Coefficient(Surrogate model prediction): 0.8109723\n",
      "Optimal Drag Coefficient(Surrogate model prediction): 0.008171556\n",
      "Optimal Aerodynamic Efficiency: 99.24332\n",
      "Lift Coefficient for Optimal Design Parameter from XFOIL: 0.8662\n",
      "Drag Coefficient for Optimal Design Parameter from XFOIL: 0.00833\n",
      "Optimal Aerodynamic Efficiency from XFOIL: 103.98559423769507\n"
     ]
    }
   ],
   "source": [
    "print('Surrogate model optimization:')\n",
    "print(\"Optimal Design Parameters:\", optimal_design_parameters)\n",
    "print(\"Optimal Lift Coefficient(Surrogate model prediction):\", CL_opt )\n",
    "print(\"Optimal Drag Coefficient(Surrogate model prediction):\", CD_opt)\n",
    "print(\"Optimal Aerodynamic Efficiency:\", optimal_efficiency)\n",
    "print(\"Lift Coefficient for Optimal Design Parameter from XFOIL:\", CL )\n",
    "print(\"Drag Coefficient for Optimal Design Parameter from XFOIL:\", CD)\n",
    "Opt_eff = CL/CD\n",
    "print(\"Optimal Aerodynamic Efficiency from XFOIL:\", Opt_eff)"
   ]
  },
  {
   "cell_type": "code",
   "execution_count": 31,
   "id": "8013af06",
   "metadata": {},
   "outputs": [
    {
     "name": "stdout",
     "output_type": "stream",
     "text": [
      "Error%\n",
      "Lift Coefficient Error: 6.3758631551879485\n",
      "Drag Coefficient Error: 1.9020938036107\n",
      "Optimal Aerodynamic Efficiency Error: 4.560514003953592\n"
     ]
    }
   ],
   "source": [
    "print(\"Error%\")\n",
    "print(\"Lift Coefficient Error:\", abs((CL_opt-CL)*100/CL))\n",
    "print(\"Drag Coefficient Error:\", abs((CD_opt-CD)*100/CD))\n",
    "print(\"Optimal Aerodynamic Efficiency Error:\", abs((Opt_eff-optimal_efficiency)*100/Opt_eff))"
   ]
  },
  {
   "cell_type": "code",
   "execution_count": 32,
   "id": "9c9c9d4c",
   "metadata": {},
   "outputs": [
    {
     "name": "stdout",
     "output_type": "stream",
     "text": [
      "Improvement in Efiiciency\n",
      "Lift and Drag Coefficient of Original Airfoil: 0.5572 0.00848\n",
      "Efiiciency of Original Airfoil: 65.70754716981132\n",
      "Lift and Drag Coefficient of Optimized Airfoil: 0.8662 0.00833\n",
      "Efiiciency of Optimized Airfoil: 103.98559423769507\n",
      "Improvement in Efiiciency: 58.255175724273904 %\n"
     ]
    }
   ],
   "source": [
    "CL_org = 0.5572\n",
    "CD_org = 0.00848\n",
    "Org_Eff = CL_org/CD_org\n",
    "print(\"Improvement in Efiiciency\")\n",
    "print(\"Lift and Drag Coefficient of Original Airfoil:\", CL_org , CD_org)\n",
    "print(\"Efiiciency of Original Airfoil:\", CL_org/CD_org)\n",
    "print(\"Lift and Drag Coefficient of Optimized Airfoil:\", CL ,CD)\n",
    "print(\"Efiiciency of Optimized Airfoil:\", Opt_eff)\n",
    "print(\"Improvement in Efiiciency:\", abs((Opt_eff-Org_Eff)*100/Org_Eff),\"%\")"
   ]
  },
  {
   "cell_type": "code",
   "execution_count": 34,
   "id": "0be1336a",
   "metadata": {},
   "outputs": [
    {
     "data": {
      "text/plain": [
       "0.08212661066699999"
      ]
     },
     "execution_count": 34,
     "metadata": {},
     "output_type": "execute_result"
    }
   ],
   "source": [
    "polygon1 = Polygon(zip(x, y))\n",
    "area_orig = polygon1.area\n",
    "area_orig"
   ]
  },
  {
   "cell_type": "code",
   "execution_count": 35,
   "id": "5af6752a-bca4-4c06-ade1-d634f7f9402b",
   "metadata": {},
   "outputs": [
    {
     "data": {
      "text/plain": [
       "0.08212661066699997"
      ]
     },
     "execution_count": 35,
     "metadata": {},
     "output_type": "execute_result"
    }
   ],
   "source": [
    "polygon2 = Polygon(zip(x, y_opt))\n",
    "area_opt = polygon2.area\n",
    "area_opt"
   ]
  },
  {
   "cell_type": "code",
   "execution_count": 12,
   "id": "5f1830e7-649d-44c7-8247-3e6d604b75f6",
   "metadata": {},
   "outputs": [],
   "source": []
  },
  {
   "cell_type": "code",
   "execution_count": null,
   "id": "ac392efe-95d2-47e4-a919-4a9cf8c38702",
   "metadata": {},
   "outputs": [],
   "source": []
  }
 ],
 "metadata": {
  "kernelspec": {
   "display_name": "Python 3 (ipykernel)",
   "language": "python",
   "name": "python3"
  },
  "language_info": {
   "codemirror_mode": {
    "name": "ipython",
    "version": 3
   },
   "file_extension": ".py",
   "mimetype": "text/x-python",
   "name": "python",
   "nbconvert_exporter": "python",
   "pygments_lexer": "ipython3",
   "version": "3.11.3"
  }
 },
 "nbformat": 4,
 "nbformat_minor": 5
}
