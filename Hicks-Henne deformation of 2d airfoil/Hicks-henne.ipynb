{
 "cells": [
  {
   "cell_type": "code",
   "execution_count": 131,
   "id": "92d1595e",
   "metadata": {},
   "outputs": [],
   "source": [
    "import numpy as np\n",
    "import matplotlib.pyplot as plt\n",
    "import pandas as pd\n",
    "import math"
   ]
  },
  {
   "cell_type": "code",
   "execution_count": 132,
   "id": "11413712",
   "metadata": {},
   "outputs": [],
   "source": [
    "df = pd.read_excel('foil.xlsx')"
   ]
  },
  {
   "cell_type": "code",
   "execution_count": 133,
   "id": "a33c5103",
   "metadata": {},
   "outputs": [],
   "source": [
    "x = df['x']\n",
    "y = df['y']"
   ]
  },
  {
   "cell_type": "code",
   "execution_count": 134,
   "id": "ab3280e3",
   "metadata": {},
   "outputs": [
    {
     "data": {
      "image/png": "[encoded data removed]",
      "text/plain": [
       "<Figure size 640x480 with 1 Axes>"
      ]
     },
     "metadata": {},
     "output_type": "display_data"
    }
   ],
   "source": [
    "plt.plot(x,y)\n",
    "plt.gca().set_aspect('equal', adjustable='box')\n",
    "plt.title('Original Airfoil (NACA 4412)')\n",
    "plt.xlabel('X-coordinate')\n",
    "plt.ylabel('Y-coordinate')\n",
    "plt.grid()"
   ]
  },
  {
   "cell_type": "code",
   "execution_count": 135,
   "id": "b13b7fa9",
   "metadata": {},
   "outputs": [],
   "source": [
    "x = df['x'].values\n",
    "y = df['y'].values"
   ]
  },
  {
   "cell_type": "code",
   "execution_count": 136,
   "id": "d1872d2d",
   "metadata": {},
   "outputs": [],
   "source": [
    "from numpy import nan"
   ]
  },
  {
   "cell_type": "code",
   "execution_count": 137,
   "id": "280278c9",
   "metadata": {},
   "outputs": [],
   "source": [
    "x = x[np.logical_not(np.isnan(x))]\n",
    "y = y[np.logical_not(np.isnan(y))]"
   ]
  },
  {
   "cell_type": "code",
   "execution_count": 138,
   "id": "7f2e544e",
   "metadata": {},
   "outputs": [
    {
     "data": {
      "text/plain": [
       "array([1.    , 0.95  , 0.9   , 0.8   , 0.7   , 0.6   , 0.5   , 0.4   ,\n",
       "       0.3   , 0.25  , 0.2   , 0.15  , 0.1   , 0.075 , 0.05  , 0.025 ,\n",
       "       0.0125, 0.    , 0.0125, 0.025 , 0.05  , 0.075 , 0.1   , 0.15  ,\n",
       "       0.2   , 0.25  , 0.3   , 0.4   , 0.5   , 0.6   , 0.7   , 0.8   ,\n",
       "       0.9   , 0.95  , 1.    ])"
      ]
     },
     "execution_count": 138,
     "metadata": {},
     "output_type": "execute_result"
    }
   ],
   "source": [
    "x"
   ]
  },
  {
   "cell_type": "code",
   "execution_count": 139,
   "id": "3b3e1476",
   "metadata": {},
   "outputs": [
    {
     "data": {
      "text/plain": [
       "array([ 0.    ,  0.0147,  0.0271,  0.0489,  0.0669,  0.0814,  0.0919,\n",
       "        0.098 ,  0.0976,  0.0941,  0.088 ,  0.0789,  0.0659,  0.0576,\n",
       "        0.0473,  0.0339,  0.0244,  0.    , -0.0143, -0.0195, -0.0249,\n",
       "       -0.0274, -0.0286, -0.0288, -0.0274, -0.025 , -0.0226, -0.018 ,\n",
       "       -0.014 , -0.01  , -0.0065, -0.0039, -0.0022, -0.0016,  0.    ])"
      ]
     },
     "execution_count": 139,
     "metadata": {},
     "output_type": "execute_result"
    }
   ],
   "source": [
    "y"
   ]
  },
  {
   "cell_type": "code",
   "execution_count": 140,
   "id": "f37a407a",
   "metadata": {},
   "outputs": [],
   "source": [
    "def hicks_henne(x_coord, y_coord , n, a, w, xM):\n",
    "    y_deformed = np.array(y_coord)\n",
    "    for i in range(n):\n",
    "        ai = a[i]\n",
    "        xMi = xM[i]\n",
    "        wi = w[i]\n",
    "        m = np.log(0.5)/np.log(xMi)\n",
    "        y_deformed += ai * np.sin(np.pi * np.array(x_coord) ** m )**wi\n",
    "\n",
    "    return y_deformed   "
   ]
  },
  {
   "cell_type": "code",
   "execution_count": 141,
   "id": "ca2ec863",
   "metadata": {},
   "outputs": [],
   "source": [
    "n = 11\n",
    "a_up = [0.00625, 0.00125, 0.00375, 0.00375, 0.00125, 0.00625, 0.00875, 0.00875, 0.00375, 0.00125, 0.00125]\n",
    "a_low = [0.001, -0.03, 0.03, -0.04, 0.03, -0.02, 0.01, -0.005, 0.003, -0.002, 0.001]\n",
    "w = np.full(11,2)  "
   ]
  },
  {
   "cell_type": "code",
   "execution_count": 142,
   "id": "3b5253c2",
   "metadata": {},
   "outputs": [],
   "source": [
    "xM = np.array([])\n",
    "for i in range(1,n+1):\n",
    "    x_m = 0.5 * (1 - math.sin(math.pi * i / n))\n",
    "    xM = np.append(xM,x_m)"
   ]
  },
  {
   "cell_type": "code",
   "execution_count": 143,
   "id": "6baba259",
   "metadata": {
    "scrolled": true
   },
   "outputs": [
    {
     "data": {
      "text/plain": [
       "array([0.35913372, 0.22967959, 0.12212521, 0.045184  , 0.00508928,\n",
       "       0.00508928, 0.045184  , 0.12212521, 0.22967959, 0.35913372,\n",
       "       0.5       ])"
      ]
     },
     "execution_count": 143,
     "metadata": {},
     "output_type": "execute_result"
    }
   ],
   "source": [
    "xM"
   ]
  },
  {
   "cell_type": "code",
   "execution_count": 144,
   "id": "6a965188",
   "metadata": {},
   "outputs": [],
   "source": [
    "def split_list(arr):\n",
    "    half = len(arr)//2\n",
    "    return arr[:half+1], arr[half+1:]\n",
    "\n",
    "x_up, x_low = split_list(x)\n",
    "y_up, y_low = split_list(y)"
   ]
  },
  {
   "cell_type": "code",
   "execution_count": 145,
   "id": "08ae5b92",
   "metadata": {},
   "outputs": [
    {
     "data": {
      "text/plain": [
       "array([1.    , 0.95  , 0.9   , 0.8   , 0.7   , 0.6   , 0.5   , 0.4   ,\n",
       "       0.3   , 0.25  , 0.2   , 0.15  , 0.1   , 0.075 , 0.05  , 0.025 ,\n",
       "       0.0125, 0.    ])"
      ]
     },
     "execution_count": 145,
     "metadata": {},
     "output_type": "execute_result"
    }
   ],
   "source": [
    "x_up"
   ]
  },
  {
   "cell_type": "code",
   "execution_count": 146,
   "id": "07a74abc",
   "metadata": {},
   "outputs": [
    {
     "data": {
      "text/plain": [
       "array([0.0125, 0.025 , 0.05  , 0.075 , 0.1   , 0.15  , 0.2   , 0.25  ,\n",
       "       0.3   , 0.4   , 0.5   , 0.6   , 0.7   , 0.8   , 0.9   , 0.95  ,\n",
       "       1.    ])"
      ]
     },
     "execution_count": 146,
     "metadata": {},
     "output_type": "execute_result"
    }
   ],
   "source": [
    "x_low"
   ]
  },
  {
   "cell_type": "code",
   "execution_count": 147,
   "id": "9db0c1a7",
   "metadata": {},
   "outputs": [
    {
     "data": {
      "text/plain": [
       "array([0.    , 0.0147, 0.0271, 0.0489, 0.0669, 0.0814, 0.0919, 0.098 ,\n",
       "       0.0976, 0.0941, 0.088 , 0.0789, 0.0659, 0.0576, 0.0473, 0.0339,\n",
       "       0.0244, 0.    ])"
      ]
     },
     "execution_count": 147,
     "metadata": {},
     "output_type": "execute_result"
    }
   ],
   "source": [
    "y_up"
   ]
  },
  {
   "cell_type": "code",
   "execution_count": 148,
   "id": "ef12908e",
   "metadata": {},
   "outputs": [
    {
     "data": {
      "text/plain": [
       "array([-0.0143, -0.0195, -0.0249, -0.0274, -0.0286, -0.0288, -0.0274,\n",
       "       -0.025 , -0.0226, -0.018 , -0.014 , -0.01  , -0.0065, -0.0039,\n",
       "       -0.0022, -0.0016,  0.    ])"
      ]
     },
     "execution_count": 148,
     "metadata": {},
     "output_type": "execute_result"
    }
   ],
   "source": [
    "y_low"
   ]
  },
  {
   "cell_type": "code",
   "execution_count": 149,
   "id": "1344ca8e",
   "metadata": {},
   "outputs": [],
   "source": [
    "y_mod_up = hicks_henne(x_up, y_up, n, a_up, w, xM)\n",
    "y_mod_low = hicks_henne(x_low, y_low, n, a_low, w, xM)\n",
    "y_mod = np.concatenate((y_mod_up, y_mod_low))"
   ]
  },
  {
   "cell_type": "code",
   "execution_count": 150,
   "id": "4798f834",
   "metadata": {
    "scrolled": true
   },
   "outputs": [
    {
     "data": {
      "text/plain": [
       "array([ 6.93638899e-34,  1.48985821e-02,  2.79035350e-02,  5.21327997e-02,\n",
       "        7.40528508e-02,  9.36328044e-02,  1.09894064e-01,  1.21866294e-01,\n",
       "        1.26819278e-01,  1.25574918e-01,  1.21285993e-01,  1.13342116e-01,\n",
       "        1.00407147e-01,  9.14118856e-02,  7.94821471e-02,  6.23977080e-02,\n",
       "        4.89289485e-02,  0.00000000e+00, -2.29894761e-02, -3.10500955e-02,\n",
       "       -3.94973421e-02, -4.39773242e-02, -4.66586340e-02, -4.87654559e-02,\n",
       "       -4.81067622e-02, -4.54885646e-02, -4.21146674e-02, -3.40834680e-02,\n",
       "       -2.57920455e-02, -1.76357157e-02, -1.07147461e-02, -5.69937103e-03,\n",
       "       -2.62632279e-03, -1.70345793e-03, -3.29947152e-34])"
      ]
     },
     "execution_count": 150,
     "metadata": {},
     "output_type": "execute_result"
    }
   ],
   "source": [
    "y_mod"
   ]
  },
  {
   "cell_type": "code",
   "execution_count": 151,
   "id": "582f50f7",
   "metadata": {},
   "outputs": [
    {
     "data": {
      "text/plain": [
       "array([1.    , 0.95  , 0.9   , 0.8   , 0.7   , 0.6   , 0.5   , 0.4   ,\n",
       "       0.3   , 0.25  , 0.2   , 0.15  , 0.1   , 0.075 , 0.05  , 0.025 ,\n",
       "       0.0125, 0.    , 0.0125, 0.025 , 0.05  , 0.075 , 0.1   , 0.15  ,\n",
       "       0.2   , 0.25  , 0.3   , 0.4   , 0.5   , 0.6   , 0.7   , 0.8   ,\n",
       "       0.9   , 0.95  , 1.    ])"
      ]
     },
     "execution_count": 151,
     "metadata": {},
     "output_type": "execute_result"
    }
   ],
   "source": [
    "x"
   ]
  },
  {
   "cell_type": "code",
   "execution_count": 152,
   "id": "31590c2e",
   "metadata": {},
   "outputs": [
    {
     "data": {
      "image/png": "[encoded data removed]",
      "text/plain": [
       "<Figure size 640x480 with 1 Axes>"
      ]
     },
     "metadata": {},
     "output_type": "display_data"
    }
   ],
   "source": [
    "plt.plot(x,y_mod)\n",
    "plt.gca().set_aspect('equal', adjustable='box')\n",
    "plt.title('Deformed Airfoil')\n",
    "plt.xlabel('X-coordinate')\n",
    "plt.ylabel('Y-coordinate')\n",
    "plt.grid()"
   ]
  },
  {
   "cell_type": "code",
   "execution_count": 153,
   "id": "58671fd6",
   "metadata": {},
   "outputs": [
    {
     "data": {
      "image/png": "[encoded data removed]",
      "text/plain": [
       "<Figure size 640x480 with 1 Axes>"
      ]
     },
     "metadata": {},
     "output_type": "display_data"
    }
   ],
   "source": [
    "plt.plot(x, y, label = \"Original Airfoil\")\n",
    "plt.plot(x, y_mod, label = \"Deformed Airfoil\")\n",
    "plt.gca().set_aspect('equal', adjustable='box')\n",
    "plt.title('Original Airfoil vs Deformed Airfoil')\n",
    "plt.xlabel('X-coordinate')\n",
    "plt.ylabel('Y-coordinate')\n",
    "plt.legend(loc=(1,1))\n",
    "plt.grid()"
   ]
  },
  {
   "cell_type": "code",
   "execution_count": 154,
   "id": "15eaa59b",
   "metadata": {},
   "outputs": [],
   "source": [
    "df1 = pd.DataFrame({'x': x, 'y_modified': y_mod} )"
   ]
  },
  {
   "cell_type": "code",
   "execution_count": 155,
   "id": "ef72dd45",
   "metadata": {},
   "outputs": [
    {
     "data": {
      "text/html": [
       "<div>\n",
       "<style scoped>\n",
       "    .dataframe tbody tr th:only-of-type {\n",
       "        vertical-align: middle;\n",
       "    }\n",
       "\n",
       "    .dataframe tbody tr th {\n",
       "        vertical-align: top;\n",
       "    }\n",
       "\n",
       "    .dataframe thead th {\n",
       "        text-align: right;\n",
       "    }\n",
       "</style>\n",
       "<table border=\"1\" class=\"dataframe\">\n",
       "  <thead>\n",
       "    <tr style=\"text-align: right;\">\n",
       "      <th></th>\n",
       "      <th>x</th>\n",
       "      <th>y_modified</th>\n",
       "    </tr>\n",
       "  </thead>\n",
       "  <tbody>\n",
       "    <tr>\n",
       "      <th>0</th>\n",
       "      <td>1.00</td>\n",
       "      <td>6.936389e-34</td>\n",
       "    </tr>\n",
       "    <tr>\n",
       "      <th>1</th>\n",
       "      <td>0.95</td>\n",
       "      <td>1.489858e-02</td>\n",
       "    </tr>\n",
       "    <tr>\n",
       "      <th>2</th>\n",
       "      <td>0.90</td>\n",
       "      <td>2.790353e-02</td>\n",
       "    </tr>\n",
       "    <tr>\n",
       "      <th>3</th>\n",
       "      <td>0.80</td>\n",
       "      <td>5.213280e-02</td>\n",
       "    </tr>\n",
       "    <tr>\n",
       "      <th>4</th>\n",
       "      <td>0.70</td>\n",
       "      <td>7.405285e-02</td>\n",
       "    </tr>\n",
       "  </tbody>\n",
       "</table>\n",
       "</div>"
      ],
      "text/plain": [
       "      x    y_modified\n",
       "0  1.00  6.936389e-34\n",
       "1  0.95  1.489858e-02\n",
       "2  0.90  2.790353e-02\n",
       "3  0.80  5.213280e-02\n",
       "4  0.70  7.405285e-02"
      ]
     },
     "execution_count": 155,
     "metadata": {},
     "output_type": "execute_result"
    }
   ],
   "source": [
    "df1.head()"
   ]
  },
  {
   "cell_type": "code",
   "execution_count": 156,
   "id": "241b9533",
   "metadata": {},
   "outputs": [],
   "source": [
    "path = \"C:/Users/user/OneDrive - BUET/Desktop/Deform/Hicks-Henne deformation of 2d airfoil/Deformed_airfoil.xlsx\" #give the path you want save the airfoil co-ordinates in\n",
    "with pd.ExcelWriter(path, mode = \"a\", engine = \"openpyxl\", if_sheet_exists = \"replace\") as writer:\n",
    "    df1.to_excel(writer, index = False)"
   ]
  },
  {
   "cell_type": "code",
   "execution_count": null,
   "id": "37593b38",
   "metadata": {},
   "outputs": [],
   "source": []
  }
 ],
 "metadata": {
  "kernelspec": {
   "display_name": "Python 3 (ipykernel)",
   "language": "python",
   "name": "python3"
  },
  "language_info": {
   "codemirror_mode": {
    "name": "ipython",
    "version": 3
   },
   "file_extension": ".py",
   "mimetype": "text/x-python",
   "name": "python",
   "nbconvert_exporter": "python",
   "pygments_lexer": "ipython3",
   "version": "3.11.3"
  }
 },
 "nbformat": 4,
 "nbformat_minor": 5
}
