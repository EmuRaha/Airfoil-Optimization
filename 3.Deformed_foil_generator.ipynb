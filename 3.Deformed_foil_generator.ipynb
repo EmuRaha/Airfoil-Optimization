{
 "cells": [
  {
   "cell_type": "code",
   "execution_count": 1,
   "id": "d3f1da58",
   "metadata": {},
   "outputs": [],
   "source": [
    "import numpy as np\n",
    "from numpy import nan\n",
    "import matplotlib.pyplot as plt\n",
    "import pandas as pd\n",
    "import math\n",
    "%run 2.Hicks_Henne_NEW_Final.ipynb"
   ]
  },
  {
   "cell_type": "code",
   "execution_count": 2,
   "id": "1ba04098",
   "metadata": {},
   "outputs": [
    {
     "data": {
      "text/plain": [
       "0      [0.007, 0.0086, -0.0027, -0.0027, -0.0072, 0.0...\n",
       "1      [-0.0037, -0.0029, 0.0047, 0.0051, 0.0089, -0....\n",
       "2      [-0.0077, 0.0032, -0.0069, -0.0094, 0.0025, -0...\n",
       "3      [0.0016, -0.0077, 0.0056, 0.0021, -0.001, 0.00...\n",
       "4      [0.0037, 0.0014, 0.0022, 0.0042, -0.0032, 0.00...\n",
       "                             ...                        \n",
       "254    [-0.0036, 0.0003, -0.0074, -0.0044, -0.006, 0....\n",
       "255    [0.0069, -0.0056, 0.005, 0.0066, 0.0076, -0.00...\n",
       "256             [0.0, 0.0, 0.0, 0.0, 0.0, 0.0, 0.0, 0.0]\n",
       "257    [0.01, 0.01, 0.01, 0.01, -0.01, -0.01, -0.01, ...\n",
       "258    [-0.01, -0.01, -0.01, -0.01, 0.01, 0.01, 0.01,...\n",
       "Length: 259, dtype: object"
      ]
     },
     "execution_count": 2,
     "metadata": {},
     "output_type": "execute_result"
    }
   ],
   "source": [
    "a"
   ]
  },
  {
   "cell_type": "code",
   "execution_count": 3,
   "id": "016bc422",
   "metadata": {},
   "outputs": [],
   "source": [
    "# # Create a subplot grid\n",
    "# fig, axs = plt.subplots(64, 2, figsize=(20, 100))\n",
    "# # Flatten the axs array if it's a multi-dimensional array\n",
    "# axs = axs.flatten()\n",
    "# # Plot each dataset\n",
    "# for i in range(128):\n",
    "#     y_mod = hicks_henne_overall(x, y , n, a, i, w, xM)\n",
    "#     ax = axs[i]\n",
    "# #     ax.plot(x, y)\n",
    "#     ax.plot(x, y_mod)\n",
    "#     ax.set_title(f'Dataset {i}')\n",
    "# # Adjust layout to prevent clipping of titles\n",
    "# # plt.tight_layout()\n",
    "\n",
    "# # Show the plots\n",
    "# plt.show()\n",
    "# # Adjust layout to prevent clipping of titles\n"
   ]
  },
  {
   "cell_type": "code",
   "execution_count": 4,
   "id": "60b89549",
   "metadata": {},
   "outputs": [],
   "source": [
    "for i in range(num_samples+3):\n",
    "    y_mod = hicks_henne_overall(x, y, n, a, i, w, xM)\n",
    "    df = pd.DataFrame({'x': x, 'y_modified': y_mod})\n",
    "    path = \"Deformed_airfoil_\" + str(i) + \".dat\"\n",
    "    \n",
    "    df.to_csv(path, index=False, sep=' ')\n"
   ]
  },
  {
   "cell_type": "code",
   "execution_count": null,
   "id": "d2527801",
   "metadata": {},
   "outputs": [],
   "source": []
  }
 ],
 "metadata": {
  "kernelspec": {
   "display_name": "Python 3 (ipykernel)",
   "language": "python",
   "name": "python3"
  },
  "language_info": {
   "codemirror_mode": {
    "name": "ipython",
    "version": 3
   },
   "file_extension": ".py",
   "mimetype": "text/x-python",
   "name": "python",
   "nbconvert_exporter": "python",
   "pygments_lexer": "ipython3",
   "version": "3.11.3"
  }
 },
 "nbformat": 4,
 "nbformat_minor": 5
}
