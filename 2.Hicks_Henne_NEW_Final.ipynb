{
 "cells": [
  {
   "cell_type": "code",
   "execution_count": 1,
   "id": "92d1595e",
   "metadata": {
    "scrolled": true
   },
   "outputs": [],
   "source": [
    "import numpy as np\n",
    "from numpy import nan\n",
    "import matplotlib.pyplot as plt\n",
    "import pandas as pd\n",
    "import math\n",
    "%run 1.Sobol_sequence.ipynb"
   ]
  },
  {
   "cell_type": "code",
   "execution_count": 2,
   "id": "11413712",
   "metadata": {},
   "outputs": [],
   "source": [
    "df = pd.read_excel('foil.xlsx')"
   ]
  },
  {
   "cell_type": "code",
   "execution_count": 3,
   "id": "a33c5103",
   "metadata": {},
   "outputs": [],
   "source": [
    "x = df['x']\n",
    "y = df['y']"
   ]
  },
  {
   "cell_type": "code",
   "execution_count": 4,
   "id": "ab3280e3",
   "metadata": {},
   "outputs": [],
   "source": [
    "# plt.plot(x,y)\n",
    "# plt.gca().set_aspect('equal', adjustable='box')\n",
    "# plt.title('Original Airfoil (NACA 0012)')\n",
    "# plt.xlabel('X-coordinate')\n",
    "# plt.ylabel('Y-coordinate')\n",
    "# plt.grid()"
   ]
  },
  {
   "cell_type": "code",
   "execution_count": 5,
   "id": "b13b7fa9",
   "metadata": {},
   "outputs": [],
   "source": [
    "x = df['x'].values\n",
    "y = df['y'].values"
   ]
  },
  {
   "cell_type": "code",
   "execution_count": 6,
   "id": "280278c9",
   "metadata": {},
   "outputs": [],
   "source": [
    "x = x[np.logical_not(np.isnan(x))]\n",
    "y = y[np.logical_not(np.isnan(y))]"
   ]
  },
  {
   "cell_type": "code",
   "execution_count": 7,
   "id": "f37a407a",
   "metadata": {},
   "outputs": [],
   "source": [
    "def hicks_henne(x_coord, y_coord , n, a, w, xM):\n",
    "    y_deformed = np.array(y_coord)\n",
    "    for i in range(n):\n",
    "        ai = a[i]\n",
    "        xMi = xM[i]\n",
    "        wi = w[i]\n",
    "        m = np.log(0.5)/np.log(xMi)\n",
    "        f = np.sin(np.pi * np.array(x_coord) ** m ) ** wi\n",
    "        y_deformed += ai * f\n",
    "        \n",
    "        x_1 = []\n",
    "        for j in range(0,1001):\n",
    "            x_1.append(j/1000)\n",
    "        f_b = np.sin(np.pi * np.array(x_1) ** m ) ** wi\n",
    "        \n",
    "#         plt.xlabel('X-coordinate')\n",
    "#         plt.ylabel('Bump function')\n",
    "#         plt.plot(x_1, f_b)\n",
    "#         plt.title('Hicks-Henn Bump Function')\n",
    "\n",
    "    return y_deformed   "
   ]
  },
  {
   "cell_type": "code",
   "execution_count": 8,
   "id": "ca2ec863",
   "metadata": {},
   "outputs": [],
   "source": [
    "#inputs\n",
    "n = 4\n",
    "w = np.full(n,2) \n",
    "xM = [0.2, 0.4, 0.6, 0.8]"
   ]
  },
  {
   "cell_type": "code",
   "execution_count": 9,
   "id": "f2f2e6db",
   "metadata": {},
   "outputs": [],
   "source": [
    "def hicks_henne_overall(x_coord, y_coord , n, a, i, w, xM):\n",
    "    def split_xy(arr):\n",
    "        half = len(arr)//2\n",
    "        return arr[:half+1], arr[half+1:]\n",
    "\n",
    "    x_up, x_low = split_xy(x)\n",
    "    y_up, y_low = split_xy(y)\n",
    "    \n",
    "    a_up = a[i][:4]\n",
    "    a_low = a[i][4:]\n",
    "    \n",
    "#     a_up = np.full(n,0.01)  \n",
    "#     a_low = np.full(n,-0.01)\n",
    "    \n",
    "    y_mod_up = hicks_henne(x_up, y_up, n, a_up, w, xM)\n",
    "    y_mod_low = hicks_henne(x_low, y_low, n, a_low, w, xM)\n",
    "    y_mod = np.concatenate((y_mod_up, y_mod_low))\n",
    "    return y_mod\n",
    "\n"
   ]
  },
  {
   "cell_type": "code",
   "execution_count": 10,
   "id": "4ed1a9f9",
   "metadata": {},
   "outputs": [
    {
     "data": {
      "text/plain": [
       "0      [0.007, 0.0086, -0.0027, -0.0027, -0.0072, 0.0...\n",
       "1      [-0.0037, -0.0029, 0.0047, 0.0051, 0.0089, -0....\n",
       "2      [-0.0077, 0.0032, -0.0069, -0.0094, 0.0025, -0...\n",
       "3      [0.0016, -0.0077, 0.0056, 0.0021, -0.001, 0.00...\n",
       "4      [0.0037, 0.0014, 0.0022, 0.0042, -0.0032, 0.00...\n",
       "                             ...                        \n",
       "126    [-0.0035, 0.0075, -0.0034, -0.0011, 0.0013, -0...\n",
       "127    [0.0071, -0.0016, 0.0041, 0.0085, -0.0048, 0.0...\n",
       "128             [0.0, 0.0, 0.0, 0.0, 0.0, 0.0, 0.0, 0.0]\n",
       "129    [0.01, 0.01, 0.01, 0.01, -0.01, -0.01, -0.01, ...\n",
       "130    [-0.01, -0.01, -0.01, -0.01, 0.01, 0.01, 0.01,...\n",
       "Length: 131, dtype: object"
      ]
     },
     "execution_count": 10,
     "metadata": {},
     "output_type": "execute_result"
    }
   ],
   "source": [
    "i = 0\n",
    "a"
   ]
  },
  {
   "cell_type": "code",
   "execution_count": 11,
   "id": "17ebfff3",
   "metadata": {},
   "outputs": [],
   "source": [
    "y_mod = hicks_henne_overall(x, y , n, a, i, w, xM)"
   ]
  },
  {
   "cell_type": "code",
   "execution_count": 12,
   "id": "31590c2e",
   "metadata": {},
   "outputs": [],
   "source": [
    "# plt.plot(x,y_mod)\n",
    "# plt.gca().set_aspect('equal', adjustable='box')\n",
    "# plt.title('Deformed Airfoil')\n",
    "# plt.xlabel('X-coordinate')\n",
    "# plt.ylabel('Y-coordinate')\n",
    "# plt.grid()"
   ]
  },
  {
   "cell_type": "code",
   "execution_count": 13,
   "id": "58671fd6",
   "metadata": {
    "scrolled": false
   },
   "outputs": [],
   "source": [
    "# plt.plot(x, y, label = \"Original Airfoil\")\n",
    "# plt.plot(x, y_mod, label = \"Deformed Airfoil\")\n",
    "# plt.gca().set_aspect('equal', adjustable='box')\n",
    "# plt.title('Original Airfoil vs Deformed Airfoil')\n",
    "# plt.xlabel('X-coordinate')\n",
    "# plt.ylabel('Y-coordinate')\n",
    "# plt.legend(loc=(1,1))\n",
    "# plt.grid()"
   ]
  },
  {
   "cell_type": "code",
   "execution_count": 14,
   "id": "15eaa59b",
   "metadata": {},
   "outputs": [],
   "source": [
    "df1 = pd.DataFrame({'x': x, 'y_modified': y_mod} )"
   ]
  },
  {
   "cell_type": "code",
   "execution_count": 15,
   "id": "e9f95a83",
   "metadata": {},
   "outputs": [
    {
     "data": {
      "text/html": [
       "<div>\n",
       "<style scoped>\n",
       "    .dataframe tbody tr th:only-of-type {\n",
       "        vertical-align: middle;\n",
       "    }\n",
       "\n",
       "    .dataframe tbody tr th {\n",
       "        vertical-align: top;\n",
       "    }\n",
       "\n",
       "    .dataframe thead th {\n",
       "        text-align: right;\n",
       "    }\n",
       "</style>\n",
       "<table border=\"1\" class=\"dataframe\">\n",
       "  <thead>\n",
       "    <tr style=\"text-align: right;\">\n",
       "      <th></th>\n",
       "      <th>x</th>\n",
       "      <th>y_modified</th>\n",
       "    </tr>\n",
       "  </thead>\n",
       "  <tbody>\n",
       "    <tr>\n",
       "      <th>0</th>\n",
       "      <td>1.000000</td>\n",
       "      <td>0.001260</td>\n",
       "    </tr>\n",
       "    <tr>\n",
       "      <th>1</th>\n",
       "      <td>0.998459</td>\n",
       "      <td>0.001475</td>\n",
       "    </tr>\n",
       "    <tr>\n",
       "      <th>2</th>\n",
       "      <td>0.993844</td>\n",
       "      <td>0.002111</td>\n",
       "    </tr>\n",
       "    <tr>\n",
       "      <th>3</th>\n",
       "      <td>0.986185</td>\n",
       "      <td>0.003137</td>\n",
       "    </tr>\n",
       "    <tr>\n",
       "      <th>4</th>\n",
       "      <td>0.975528</td>\n",
       "      <td>0.004506</td>\n",
       "    </tr>\n",
       "    <tr>\n",
       "      <th>...</th>\n",
       "      <td>...</td>\n",
       "      <td>...</td>\n",
       "    </tr>\n",
       "    <tr>\n",
       "      <th>76</th>\n",
       "      <td>0.975528</td>\n",
       "      <td>-0.004779</td>\n",
       "    </tr>\n",
       "    <tr>\n",
       "      <th>77</th>\n",
       "      <td>0.986185</td>\n",
       "      <td>-0.003227</td>\n",
       "    </tr>\n",
       "    <tr>\n",
       "      <th>78</th>\n",
       "      <td>0.993844</td>\n",
       "      <td>-0.002129</td>\n",
       "    </tr>\n",
       "    <tr>\n",
       "      <th>79</th>\n",
       "      <td>0.998459</td>\n",
       "      <td>-0.001477</td>\n",
       "    </tr>\n",
       "    <tr>\n",
       "      <th>80</th>\n",
       "      <td>1.000000</td>\n",
       "      <td>-0.001260</td>\n",
       "    </tr>\n",
       "  </tbody>\n",
       "</table>\n",
       "<p>81 rows × 2 columns</p>\n",
       "</div>"
      ],
      "text/plain": [
       "           x  y_modified\n",
       "0   1.000000    0.001260\n",
       "1   0.998459    0.001475\n",
       "2   0.993844    0.002111\n",
       "3   0.986185    0.003137\n",
       "4   0.975528    0.004506\n",
       "..       ...         ...\n",
       "76  0.975528   -0.004779\n",
       "77  0.986185   -0.003227\n",
       "78  0.993844   -0.002129\n",
       "79  0.998459   -0.001477\n",
       "80  1.000000   -0.001260\n",
       "\n",
       "[81 rows x 2 columns]"
      ]
     },
     "execution_count": 15,
     "metadata": {},
     "output_type": "execute_result"
    }
   ],
   "source": [
    "df1"
   ]
  },
  {
   "cell_type": "code",
   "execution_count": null,
   "id": "c0ca965e",
   "metadata": {},
   "outputs": [],
   "source": []
  }
 ],
 "metadata": {
  "kernelspec": {
   "display_name": "Python 3 (ipykernel)",
   "language": "python",
   "name": "python3"
  },
  "language_info": {
   "codemirror_mode": {
    "name": "ipython",
    "version": 3
   },
   "file_extension": ".py",
   "mimetype": "text/x-python",
   "name": "python",
   "nbconvert_exporter": "python",
   "pygments_lexer": "ipython3",
   "version": "3.11.3"
  }
 },
 "nbformat": 4,
 "nbformat_minor": 5
}
